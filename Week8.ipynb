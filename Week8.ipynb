{
 "cells": [
  {
   "cell_type": "code",
   "execution_count": 18,
   "id": "360f49e7",
   "metadata": {},
   "outputs": [
    {
     "name": "stdout",
     "output_type": "stream",
     "text": [
      "Defaulting to user installation because normal site-packages is not writeable\n",
      "Requirement already satisfied: scikit-learn in c:\\users\\kiit\\appdata\\roaming\\python\\python310\\site-packages (1.5.1)\n",
      "Requirement already satisfied: pandas in c:\\programdata\\anaconda3\\lib\\site-packages (1.5.3)\n",
      "Collecting pandas\n",
      "  Downloading pandas-2.2.2-cp310-cp310-win_amd64.whl (11.6 MB)\n",
      "     --------------------------------------- 11.6/11.6 MB 21.8 MB/s eta 0:00:00\n",
      "Requirement already satisfied: numpy in c:\\users\\kiit\\appdata\\roaming\\python\\python310\\site-packages (2.0.1)\n",
      "Requirement already satisfied: scipy in c:\\users\\kiit\\appdata\\roaming\\python\\python310\\site-packages (1.14.0)\n",
      "Requirement already satisfied: joblib>=1.2.0 in c:\\users\\kiit\\appdata\\roaming\\python\\python310\\site-packages (from scikit-learn) (1.4.2)\n",
      "Requirement already satisfied: threadpoolctl>=3.1.0 in c:\\users\\kiit\\appdata\\roaming\\python\\python310\\site-packages (from scikit-learn) (3.5.0)\n",
      "Collecting tzdata>=2022.7\n",
      "  Downloading tzdata-2024.1-py2.py3-none-any.whl (345 kB)\n",
      "     ------------------------------------- 345.4/345.4 kB 20.9 MB/s eta 0:00:00\n",
      "Requirement already satisfied: pytz>=2020.1 in c:\\programdata\\anaconda3\\lib\\site-packages (from pandas) (2022.7)\n",
      "Requirement already satisfied: python-dateutil>=2.8.2 in c:\\programdata\\anaconda3\\lib\\site-packages (from pandas) (2.8.2)\n",
      "Requirement already satisfied: six>=1.5 in c:\\programdata\\anaconda3\\lib\\site-packages (from python-dateutil>=2.8.2->pandas) (1.16.0)\n",
      "Installing collected packages: tzdata, pandas\n",
      "Successfully installed pandas-2.2.2 tzdata-2024.1\n"
     ]
    }
   ],
   "source": [
    "!pip install --upgrade scikit-learn pandas numpy scipy"
   ]
  },
  {
   "cell_type": "code",
   "execution_count": 22,
   "id": "a9161ea1",
   "metadata": {},
   "outputs": [
    {
     "name": "stdout",
     "output_type": "stream",
     "text": [
      "   ApplicantIncome  CoapplicantIncome  LoanAmount  Loan_Amount_Term  \\\n",
      "0             5849                0.0  146.412162             360.0   \n",
      "1             4583             1508.0  128.000000             360.0   \n",
      "2             3000                0.0   66.000000             360.0   \n",
      "3             2583             2358.0  120.000000             360.0   \n",
      "4             6000                0.0  141.000000             360.0   \n",
      "\n",
      "   Credit_History  Loan_ID_LP001002  Loan_ID_LP001003  Loan_ID_LP001005  \\\n",
      "0             1.0                 1                 0                 0   \n",
      "1             1.0                 0                 1                 0   \n",
      "2             1.0                 0                 0                 1   \n",
      "3             1.0                 0                 0                 0   \n",
      "4             1.0                 0                 0                 0   \n",
      "\n",
      "   Loan_ID_LP001006  Loan_ID_LP001008  ...  Education_Graduate  \\\n",
      "0                 0                 0  ...                   1   \n",
      "1                 0                 0  ...                   1   \n",
      "2                 0                 0  ...                   1   \n",
      "3                 1                 0  ...                   0   \n",
      "4                 0                 1  ...                   1   \n",
      "\n",
      "   Education_Not Graduate  Self_Employed_No  Self_Employed_Yes  \\\n",
      "0                       0                 1                  0   \n",
      "1                       0                 1                  0   \n",
      "2                       0                 0                  1   \n",
      "3                       1                 1                  0   \n",
      "4                       0                 1                  0   \n",
      "\n",
      "   Property_Area_Rural  Property_Area_Semiurban  Property_Area_Urban  \\\n",
      "0                    0                        0                    1   \n",
      "1                    1                        0                    0   \n",
      "2                    0                        0                    1   \n",
      "3                    0                        0                    1   \n",
      "4                    0                        0                    1   \n",
      "\n",
      "   Loan_Status_N  Loan_Status_Y  Cluster  \n",
      "0              0              1        0  \n",
      "1              1              0        0  \n",
      "2              0              1        0  \n",
      "3              0              1        2  \n",
      "4              0              1        0  \n",
      "\n",
      "[5 rows x 637 columns]\n"
     ]
    }
   ],
   "source": [
    "import os\n",
    "import pandas as pd\n",
    "from sklearn.preprocessing import StandardScaler\n",
    "from sklearn.cluster import AgglomerativeClustering\n",
    "\n",
    "# Set environment variable to avoid memory leak warning\n",
    "os.environ['OMP_NUM_THREADS'] = '1'  # Reducing to 1 thread\n",
    "\n",
    "# Load the dataset\n",
    "train_data = pd.read_csv('Loan Week 8 CSI/Training Dataset.csv')\n",
    "\n",
    "# Handle missing values\n",
    "train_data.fillna(train_data.mean(numeric_only=True), inplace=True)\n",
    "\n",
    "# Convert categorical data to numerical using one-hot encoding\n",
    "train_data = pd.get_dummies(train_data)\n",
    "\n",
    "# Feature scaling\n",
    "scaler = StandardScaler()\n",
    "scaled_data = scaler.fit_transform(train_data)\n",
    "\n",
    "# Agglomerative Clustering\n",
    "agglomerative = AgglomerativeClustering(n_clusters=3)\n",
    "clusters = agglomerative.fit_predict(scaled_data)\n",
    "\n",
    "# Add the cluster labels to the dataset\n",
    "train_data['Cluster'] = clusters\n",
    "\n",
    "# Display the first few rows of the dataset with cluster labels\n",
    "print(train_data.head())\n"
   ]
  },
  {
   "cell_type": "code",
   "execution_count": null,
   "id": "d4647ea7",
   "metadata": {},
   "outputs": [],
   "source": []
  }
 ],
 "metadata": {
  "kernelspec": {
   "display_name": "Python 3 (ipykernel)",
   "language": "python",
   "name": "python3"
  },
  "language_info": {
   "codemirror_mode": {
    "name": "ipython",
    "version": 3
   },
   "file_extension": ".py",
   "mimetype": "text/x-python",
   "name": "python",
   "nbconvert_exporter": "python",
   "pygments_lexer": "ipython3",
   "version": "3.10.9"
  }
 },
 "nbformat": 4,
 "nbformat_minor": 5
}
